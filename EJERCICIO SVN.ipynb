{
 "cells": [
  {
   "cell_type": "code",
   "execution_count": 1,
   "metadata": {},
   "outputs": [],
   "source": [
    "import pandas as pd\n",
    "import numpy as np\n",
    "import seaborn as sns\n",
    "import matplotlib.pyplot as plt\n",
    "from sklearn.utils import shuffle\n",
    "from sklearn.metrics import confusion_matrix\n",
    "from random import sample\n",
    "from sklearn.metrics import accuracy_score\n",
    "import warnings\n",
    "import random\n",
    "import time\n",
    "warnings.filterwarnings('ignore')"
   ]
  },
  {
   "cell_type": "code",
   "execution_count": 2,
   "metadata": {},
   "outputs": [],
   "source": [
    "#Leo los datos de entrenamiento:\n",
    "train = pd.read_csv('train.csv',  sep=',', names=[\"x\", \"y\", \"label\"], header = 1)"
   ]
  },
  {
   "cell_type": "code",
   "execution_count": 3,
   "metadata": {},
   "outputs": [],
   "source": [
    "#Leo los datos de test:\n",
    "test = pd.read_csv('test.csv',  sep=',', names=[\"x\", \"y\", \"label\"], header = 1)"
   ]
  },
  {
   "cell_type": "code",
   "execution_count": 4,
   "metadata": {},
   "outputs": [
    {
     "data": {
      "text/plain": [
       "(319, 3)"
      ]
     },
     "execution_count": 4,
     "metadata": {},
     "output_type": "execute_result"
    }
   ],
   "source": [
    "train.shape"
   ]
  },
  {
   "cell_type": "code",
   "execution_count": 5,
   "metadata": {},
   "outputs": [
    {
     "data": {
      "text/plain": [
       "(79, 3)"
      ]
     },
     "execution_count": 5,
     "metadata": {},
     "output_type": "execute_result"
    }
   ],
   "source": [
    "test.shape"
   ]
  },
  {
   "cell_type": "code",
   "execution_count": 6,
   "metadata": {},
   "outputs": [
    {
     "data": {
      "text/html": [
       "<div>\n",
       "<style scoped>\n",
       "    .dataframe tbody tr th:only-of-type {\n",
       "        vertical-align: middle;\n",
       "    }\n",
       "\n",
       "    .dataframe tbody tr th {\n",
       "        vertical-align: top;\n",
       "    }\n",
       "\n",
       "    .dataframe thead th {\n",
       "        text-align: right;\n",
       "    }\n",
       "</style>\n",
       "<table border=\"1\" class=\"dataframe\">\n",
       "  <thead>\n",
       "    <tr style=\"text-align: right;\">\n",
       "      <th></th>\n",
       "      <th>x</th>\n",
       "      <th>y</th>\n",
       "    </tr>\n",
       "    <tr>\n",
       "      <th>label</th>\n",
       "      <th></th>\n",
       "      <th></th>\n",
       "    </tr>\n",
       "  </thead>\n",
       "  <tbody>\n",
       "    <tr>\n",
       "      <th>-1.0</th>\n",
       "      <td>152</td>\n",
       "      <td>152</td>\n",
       "    </tr>\n",
       "    <tr>\n",
       "      <th>1.0</th>\n",
       "      <td>167</td>\n",
       "      <td>167</td>\n",
       "    </tr>\n",
       "  </tbody>\n",
       "</table>\n",
       "</div>"
      ],
      "text/plain": [
       "         x    y\n",
       "label          \n",
       "-1.0   152  152\n",
       " 1.0   167  167"
      ]
     },
     "execution_count": 6,
     "metadata": {},
     "output_type": "execute_result"
    }
   ],
   "source": [
    "train.groupby('label').count()"
   ]
  },
  {
   "cell_type": "code",
   "execution_count": 7,
   "metadata": {},
   "outputs": [
    {
     "data": {
      "text/html": [
       "<div>\n",
       "<style scoped>\n",
       "    .dataframe tbody tr th:only-of-type {\n",
       "        vertical-align: middle;\n",
       "    }\n",
       "\n",
       "    .dataframe tbody tr th {\n",
       "        vertical-align: top;\n",
       "    }\n",
       "\n",
       "    .dataframe thead th {\n",
       "        text-align: right;\n",
       "    }\n",
       "</style>\n",
       "<table border=\"1\" class=\"dataframe\">\n",
       "  <thead>\n",
       "    <tr style=\"text-align: right;\">\n",
       "      <th></th>\n",
       "      <th>x</th>\n",
       "      <th>y</th>\n",
       "    </tr>\n",
       "    <tr>\n",
       "      <th>label</th>\n",
       "      <th></th>\n",
       "      <th></th>\n",
       "    </tr>\n",
       "  </thead>\n",
       "  <tbody>\n",
       "    <tr>\n",
       "      <th>-1.0</th>\n",
       "      <td>35</td>\n",
       "      <td>35</td>\n",
       "    </tr>\n",
       "    <tr>\n",
       "      <th>1.0</th>\n",
       "      <td>44</td>\n",
       "      <td>44</td>\n",
       "    </tr>\n",
       "  </tbody>\n",
       "</table>\n",
       "</div>"
      ],
      "text/plain": [
       "        x   y\n",
       "label        \n",
       "-1.0   35  35\n",
       " 1.0   44  44"
      ]
     },
     "execution_count": 7,
     "metadata": {},
     "output_type": "execute_result"
    }
   ],
   "source": [
    "test.groupby('label').count()"
   ]
  },
  {
   "cell_type": "code",
   "execution_count": 8,
   "metadata": {},
   "outputs": [
    {
     "data": {
      "text/html": [
       "<div>\n",
       "<style scoped>\n",
       "    .dataframe tbody tr th:only-of-type {\n",
       "        vertical-align: middle;\n",
       "    }\n",
       "\n",
       "    .dataframe tbody tr th {\n",
       "        vertical-align: top;\n",
       "    }\n",
       "\n",
       "    .dataframe thead th {\n",
       "        text-align: right;\n",
       "    }\n",
       "</style>\n",
       "<table border=\"1\" class=\"dataframe\">\n",
       "  <thead>\n",
       "    <tr style=\"text-align: right;\">\n",
       "      <th></th>\n",
       "      <th>x</th>\n",
       "      <th>y</th>\n",
       "      <th>label</th>\n",
       "    </tr>\n",
       "  </thead>\n",
       "  <tbody>\n",
       "    <tr>\n",
       "      <th>1</th>\n",
       "      <td>0.390037</td>\n",
       "      <td>3.363184</td>\n",
       "      <td>1.0</td>\n",
       "    </tr>\n",
       "    <tr>\n",
       "      <th>2</th>\n",
       "      <td>0.162798</td>\n",
       "      <td>-0.892772</td>\n",
       "      <td>-1.0</td>\n",
       "    </tr>\n",
       "    <tr>\n",
       "      <th>3</th>\n",
       "      <td>-0.266684</td>\n",
       "      <td>1.834779</td>\n",
       "      <td>1.0</td>\n",
       "    </tr>\n",
       "    <tr>\n",
       "      <th>4</th>\n",
       "      <td>-1.433552</td>\n",
       "      <td>-2.683965</td>\n",
       "      <td>-1.0</td>\n",
       "    </tr>\n",
       "    <tr>\n",
       "      <th>5</th>\n",
       "      <td>-2.352588</td>\n",
       "      <td>-0.936111</td>\n",
       "      <td>-1.0</td>\n",
       "    </tr>\n",
       "  </tbody>\n",
       "</table>\n",
       "</div>"
      ],
      "text/plain": [
       "          x         y  label\n",
       "1  0.390037  3.363184    1.0\n",
       "2  0.162798 -0.892772   -1.0\n",
       "3 -0.266684  1.834779    1.0\n",
       "4 -1.433552 -2.683965   -1.0\n",
       "5 -2.352588 -0.936111   -1.0"
      ]
     },
     "execution_count": 8,
     "metadata": {},
     "output_type": "execute_result"
    }
   ],
   "source": [
    "test.head()"
   ]
  },
  {
   "cell_type": "code",
   "execution_count": 9,
   "metadata": {},
   "outputs": [
    {
     "data": {
      "image/png": "[encoded data removed]",
      "text/plain": [
       "<Figure size 640x480 with 1 Axes>"
      ]
     },
     "metadata": {},
     "output_type": "display_data"
    }
   ],
   "source": [
    "#Grafico las clases\n",
    "\n",
    "sns.scatterplot(data=train, x=\"x\", y=\"y\", hue=\"label\",palette=\"bright\")\n",
    "plt.ylim(-5, 5)\n",
    "plt.xlim(-5, 5)\n",
    "\n",
    "plt.show()"
   ]
  },
  {
   "cell_type": "code",
   "execution_count": 10,
   "metadata": {},
   "outputs": [],
   "source": [
    "#Separo los datos de los lables.\n",
    "\n",
    "X_train = train.to_numpy()[:,0:2]\n",
    "y_train = train.to_numpy()[:,-1]\n",
    "\n",
    "X_test = test.to_numpy()[:,0:2]\n",
    "y_test = test.to_numpy()[:,-1]\n"
   ]
  },
  {
   "cell_type": "code",
   "execution_count": 11,
   "metadata": {},
   "outputs": [],
   "source": [
    "def calculo_costo (W,b,X,Y,hyper_params):\n",
    "    N = X.shape[0]\n",
    "    \n",
    "    t = 1 - (Y * (np.dot(X,W)+b))\n",
    "    #Aplico el max(0,1-t)\n",
    "    t[t<0] = 0\n",
    "    #Calcula la hingen loss\n",
    "    hinge_loss = hyper_params['C'] * np.sum(t)\n",
    "\n",
    "    costo = (1 / 2 * np.dot(W,W) + hinge_loss) / N\n",
    "    return costo"
   ]
  },
  {
   "cell_type": "code",
   "execution_count": 12,
   "metadata": {},
   "outputs": [],
   "source": [
    "def calculo_gradiente(W,b,X,Y,hyper_params):\n",
    "    t = 1 - Y * (np.dot(X,W)+b)\n",
    "    t[t<0] = 0\n",
    "    \n",
    "    dw_total = np.zeros(len(W))\n",
    "    db_total = 0\n",
    "    \n",
    "    cont = 0\n",
    "    for  i in enumerate (t):\n",
    "        if i==0:\n",
    "            dw = W\n",
    "            db = 0\n",
    "        else:\n",
    "            dw = W - hyper_params['C'] * X[cont] * Y[cont]\n",
    "            db =  hyper_params['C'] * Y[cont]\n",
    "        dw_total += dw\n",
    "        db_total += db\n",
    "        cont += 1\n",
    "    dw_total = dw_total / cont\n",
    "    db_total = db_total / cont\n",
    "\n",
    "\n",
    "    grads = {'dw':dw_total, 'db':db_total}\n",
    "    return grads\n"
   ]
  },
  {
   "cell_type": "code",
   "execution_count": 13,
   "metadata": {},
   "outputs": [],
   "source": [
    "def momentum_update(W,b, grads, states, hyper_params):\n",
    "  # hyper-param typical values: learning_rate=0.01, momentum=0.9\n",
    "  \n",
    "    W_ant = W\n",
    "    b_ant = b\n",
    "    W = W + hyper_params['momentum'] * states[0] - hyper_params['lr'] * grads['dw']\n",
    "    b = b + hyper_params['momentum'] * states[1] - hyper_params['lr'] * grads['db']\n",
    "    states = [W-W_ant, b-b_ant]\n",
    "    return W,b, states"
   ]
  },
  {
   "cell_type": "code",
   "execution_count": 14,
   "metadata": {},
   "outputs": [],
   "source": [
    "def creo_mini_batch(X,y,batch_size):\n",
    "    X_batch =[]\n",
    "    y_batch =[]\n",
    "    numero_minibatch = 0\n",
    "    for first in range(0, len(X), batch_size):\n",
    "        X_subset = X[first:first+batch_size]\n",
    "        y_subset = y[first:first+batch_size]\n",
    "        X_batch.append(X_subset)\n",
    "        y_batch.append(y_subset)\n",
    "        numero_minibatch += 1\n",
    "    return X_batch, y_batch, numero_minibatch"
   ]
  },
  {
   "cell_type": "code",
   "execution_count": 15,
   "metadata": {},
   "outputs": [],
   "source": [
    "#inicializo hiperparámetros:\n",
    "hyper_params = {'lr': 0.01, 'C': 0.05, 'momentum': 0.7}\n",
    "max_epochs = 1000\n",
    "cost_delta_minimo = 0.0001\n",
    "batch_size = 50\n",
    "\n",
    "#inicializo parámetros:\n",
    "W = np.array([-5,0])\n",
    "b = 0\n",
    "dw = np.array([0,0])\n",
    "states = [0,0]\n",
    "lista_costo = []\n",
    "costo_prev = 0\n",
    "start = time.time()\n",
    "lista_W = []\n",
    "lista_b = []"
   ]
  },
  {
   "cell_type": "code",
   "execution_count": 16,
   "metadata": {
    "scrolled": true
   },
   "outputs": [
    {
     "data": {
      "image/png": "[encoded data removed]",
      "text/plain": [
       "<Figure size 640x480 with 1 Axes>"
      ]
     },
     "metadata": {},
     "output_type": "display_data"
    }
   ],
   "source": [
    "for epoch in range(1, max_epochs):\n",
    "   \n",
    "    X, y = X_train, y_train\n",
    "    X , y, numero_minibatch = creo_mini_batch(X_train,y_train,batch_size)\n",
    "    for i in range (numero_minibatch):\n",
    "        grads = calculo_gradiente(W,b, X[i], y[i],hyper_params)\n",
    "        W, b, states =  momentum_update(W,b, grads, states,hyper_params)\n",
    "    costo = calculo_costo (W,b,X[i],y[i],hyper_params)\n",
    "    lista_costo.append(costo)\n",
    "    if abs(costo-costo_prev) < cost_delta_minimo * costo_prev:\n",
    "        break\n",
    "    costo_prev = costo\n",
    "    \n",
    "    lista_W.append(W)\n",
    "    lista_b.append(b)\n",
    "    \n",
    "h0 = plt.plot(lista_costo)\n",
    "plt.xlabel(\"# Epoch\")\n",
    "plt.ylabel(\"Costo\")\n",
    "plt.title(\"Tamaño del batch=\"+str(batch_size))\n",
    "plt.savefig(\"costo\"+\"batch_size\"+str(batch_size)+'_.png')\n",
    "plt.show()\n",
    "\n",
    "\n"
   ]
  },
  {
   "cell_type": "code",
   "execution_count": null,
   "metadata": {},
   "outputs": [],
   "source": [
    "\n",
    "\n",
    "sns.scatterplot(data=train, x=\"x\", y=\"y\", hue=\"label\",palette=\"bright\")\n",
    "\n",
    "plt.legend(loc='upper right')\n",
    "xx = np.linspace(-4,4)\n",
    "a = -W[0] / W[1]\n",
    "yy = a * xx + b / W[1]\n",
    "h0 = plt.plot(xx, yy, 'k-',linewidth=1,color='red')\n",
    "plt.ylim(-4, 4)\n",
    "plt.savefig(\"train_GD_.png\")\n",
    "plt.show()"
   ]
  },
  {
   "cell_type": "code",
   "execution_count": null,
   "metadata": {},
   "outputs": [],
   "source": [
    "#Implementación con sklern\n",
    "from sklearn.svm import SVC\n",
    "model = SVC(C=0.5, kernel='linear')\n",
    "clf = model.fit(X_train, y_train)"
   ]
  },
  {
   "cell_type": "code",
   "execution_count": null,
   "metadata": {},
   "outputs": [],
   "source": [
    "xx = np.linspace(-4,4)\n",
    "w_scikit = clf.coef_[0]\n",
    "a = -w_scikit[0] / w_scikit[1]\n",
    "yy = a * xx - clf.intercept_[0] / w_scikit[1]\n",
    "\n",
    "h0 = plt.plot(xx, yy, 'k-', linewidth=1,color='g')\n",
    "sns.scatterplot(data=train, x=\"x\", y=\"y\", hue=\"label\",palette=\"bright\")\n",
    "plt.legend(loc='upper right')\n",
    "plt.ylim(-4, 4)\n",
    "plt.savefig(\"sklearn_svm_test_\"+'_.png')\n",
    "plt.show()"
   ]
  },
  {
   "cell_type": "code",
   "execution_count": null,
   "metadata": {
    "scrolled": true
   },
   "outputs": [],
   "source": [
    "#Coparación valores obtenidos a través de SGD y scikit-learn:\n",
    "m_sgd =-W[0]/W[1]\n",
    "b_sgd = b/W[1]\n",
    "print(\"W\")\n",
    "print (\"Recta de decisión calculada por SGD: \",\"y= \"+ str(m_sgd)+\"x + \"+str(b_sgd))\n",
    "\n",
    "\n",
    "m_scikit =-w_scikit[0] / w_scikit[1]\n",
    "b_scikit =-clf.intercept_[0]/w_scikit[1]\n",
    "print (\"Recta de decisión utilizando scikit-learn: \", \"y= \"+ str(m_scikit)+\"x + \"+str(b_scikit))"
   ]
  },
  {
   "cell_type": "code",
   "execution_count": null,
   "metadata": {},
   "outputs": [],
   "source": [
    "#Recta calculado utilizando SGD:\n",
    "sns.scatterplot(data=train, x=\"x\", y=\"y\", hue=\"label\",palette=\"bright\")\n",
    "\n",
    "\n",
    "xx = np.linspace(-4,4)\n",
    "a = -W[0] / W[1]\n",
    "yy = a * xx + b / W[1]\n",
    "plt.ylim(-4, 4)\n",
    "h0 = plt.plot(xx, yy, 'k-',linewidth=1,color='red',label='SGD')\n",
    "\n",
    "#Recta calculada utilizando SVM scikit-learn:\n",
    "xx = np.linspace(-4,4)\n",
    "w_scikit = clf.coef_[0]\n",
    "a = -w_scikit[0] / w_scikit[1]\n",
    "yy = a * xx - clf.intercept_[0] / w_scikit[1]\n",
    "plt.ylim(-4, 4)\n",
    "h1 = plt.plot(xx, yy, 'k-', linewidth=1,color='g',label='scikit-learn')\n",
    "plt.legend(loc='upper right')\n",
    "plt.savefig(\"ammbos_train_.png\")\n",
    "plt.show()\n"
   ]
  },
  {
   "cell_type": "code",
   "execution_count": null,
   "metadata": {},
   "outputs": [],
   "source": [
    "#Precisión sobre set de entrenamiento utilizando GD:\n",
    "y_predicted = []\n",
    "a = -W[0] / W[1]\n",
    "for i in range(X_train.shape[0]):\n",
    "    y_linea = a * X_train[i][0] + b\n",
    "    if X_train[i][1] > y_linea:\n",
    "        y_predicted.append(1)\n",
    "    else:\n",
    "        y_predicted.append(-1)\n",
    "print(confusion_matrix(y_train,y_predicted))\n"
   ]
  },
  {
   "cell_type": "code",
   "execution_count": null,
   "metadata": {},
   "outputs": [],
   "source": [
    "#Predicción sobre set de entrenamiento utilizando scikit-learn:\n",
    "y_pred = clf.predict(X_train)\n",
    "print(confusion_matrix(y_train,y_pred))"
   ]
  },
  {
   "cell_type": "code",
   "execution_count": null,
   "metadata": {},
   "outputs": [],
   "source": [
    "#Implementación con sklern\n",
    "from sklearn.svm import SVC\n",
    "model = SVC(C=0.9, kernel='linear')\n",
    "clf = model.fit(X_train, y_train)\n",
    "\n",
    "plt.scatter(X_train[:, 0], X_train[:, 1], c=y_train, s=30, cmap=plt.cm.Paired)\n",
    "\n",
    "# plot the decision function\n",
    "ax = plt.gca()\n",
    "xlim = ax.get_xlim()\n",
    "ylim = ax.get_ylim()\n",
    "\n",
    "# Creo una grilla para \n",
    "\n",
    "xx = np.linspace(xlim[0], xlim[1], 30)\n",
    "yy = np.linspace(ylim[0], ylim[1], 30)\n",
    "YY, XX = np.meshgrid(yy, xx)\n",
    "xy = np.vstack([XX.ravel(), YY.ravel()]).T\n",
    "Z = clf.decision_function(xy).reshape(XX.shape)\n",
    "\n",
    "# Imprimo línea de decisión y margen\n",
    "ax.contour(XX, YY, Z, colors='k', levels=[-1, 0, 1], alpha=0.5,linestyles=['--', '-', '--'])\n",
    "\n",
    "# Imprimo vectores de soporte\n",
    "ax.scatter(clf.support_vectors_[:, 0], clf.support_vectors_[:, 1], s=100, linewidth=0.5, facecolors='none', edgecolors='k')\n",
    "ax.set_title(\"C=0.9\" + \"  N° Vectores soportes=\"+str(np.sum(clf.n_support_)))\n",
    "plt.savefig(\"C=0.9\" + \"  N° Vectores soportes=\"+str(np.sum(clf.n_support_))+'_.png')\n",
    "plt.show()"
   ]
  },
  {
   "cell_type": "code",
   "execution_count": null,
   "metadata": {},
   "outputs": [],
   "source": [
    "#Precisión set de test utilizando SGD:\n",
    "\n",
    "y_predecida = []\n",
    "a = -W[0] / W[1]\n",
    "for i in range(X_test.shape[0]):\n",
    "    y_linea = a * X_test[i][0] + b\n",
    "    if X_test[i][1] > y_linea:\n",
    "        y_predecida.append(1)\n",
    "    else:\n",
    "        y_predecida.append(-1)\n",
    "print(confusion_matrix(y_test,y_predecida))"
   ]
  },
  {
   "cell_type": "code",
   "execution_count": null,
   "metadata": {},
   "outputs": [],
   "source": [
    "#Calculo la presición del modelo\n",
    "\n",
    "precision = (79-5)/79\n",
    "print(\"Precision del modelo=\"+ str(np.round (precision,decimals=4)))"
   ]
  },
  {
   "cell_type": "code",
   "execution_count": null,
   "metadata": {},
   "outputs": [],
   "source": [
    "#Recta calculado utilizando SGD sobre set de test:\n",
    "\n",
    "plt.scatter(X_test[:, 0], X_test[:, 1], c = y_test)\n",
    "xx = np.linspace(-4,4)\n",
    "a = -W[0] / W[1]\n",
    "yy = a * xx + b / W[1]\n",
    "h0 = plt.plot(xx, yy, 'k-',linewidth=1,color='red')\n",
    "sns.scatterplot(data=test, x=\"x\", y=\"y\", hue=\"label\",palette=\"bright\")\n",
    "plt.legend(loc='upper right')\n",
    "plt.ylim(-4, 4)\n",
    "plt.savefig(\"test_\"+str(W)+'_.png')\n",
    "plt.show()"
   ]
  },
  {
   "cell_type": "code",
   "execution_count": null,
   "metadata": {},
   "outputs": [],
   "source": [
    "#Predicción utilizando scikit-learn:\n",
    "#Implementación con sklern\n",
    "model = SVC(C=0.5, kernel='linear')\n",
    "clf = model.fit(X_train, y_train)\n",
    "y_pred = clf.predict(X_test)\n",
    "print(confusion_matrix(y_test,y_pred))"
   ]
  },
  {
   "cell_type": "code",
   "execution_count": null,
   "metadata": {},
   "outputs": [],
   "source": [
    "precision = (79-6)/79\n",
    "print(\"Precision del modelo=\"+ str(np.round (precision,decimals=4)))"
   ]
  },
  {
   "cell_type": "code",
   "execution_count": null,
   "metadata": {},
   "outputs": [],
   "source": [
    "#Obtengo vectores soportes:\n",
    "clf.support_"
   ]
  },
  {
   "cell_type": "code",
   "execution_count": null,
   "metadata": {},
   "outputs": [],
   "source": [
    "X_train_delete = X_train\n",
    "y_train_delete = y_train"
   ]
  },
  {
   "cell_type": "code",
   "execution_count": null,
   "metadata": {},
   "outputs": [],
   "source": [
    "# Elimino vectores soportes y genero un nuevo set de entranamiento:\n",
    "X_train_delete = np.delete(X_train,obj=\n",
    "     [ 28,  29,  51,  53,  68,  70,  74,  76,  95, 106, 116, 117, 163,\n",
    "        165, 173, 179, 180, 184, 198, 217, 246, 247, 248, 253, 256, 258,\n",
    "        260, 265, 277, 279, 280, 289, 290, 305, 309, 312,  34,  44,  58,\n",
    "         63,  66,  75,  78,  91,  98, 103, 110, 119, 128, 131, 134, 137,\n",
    "        158, 183, 188, 189, 193, 200, 203, 296, 301, 308, 314, 318], axis=0)\n",
    "y_train_delete = np.delete(y_train,obj=\n",
    "        [ 28,  29,  51,  53,  68,  70,  74,  76,  95, 106, 116, 117, 163,\n",
    "        165, 173, 179, 180, 184, 198, 217, 246, 247, 248, 253, 256, 258,\n",
    "        260, 265, 277, 279, 280, 289, 290, 305, 309, 312,  34,  44,  58,\n",
    "         63,  66,  75,  78,  91,  98, 103, 110, 119, 128, 131, 134, 137,\n",
    "        158, 183, 188, 189, 193, 200, 203, 296, 301, 308, 314, 318], axis=0)\n"
   ]
  },
  {
   "cell_type": "code",
   "execution_count": null,
   "metadata": {},
   "outputs": [],
   "source": [
    "#Implementación con sklern con el núevo set de datos:\n",
    "\n",
    "from sklearn.svm import SVC\n",
    "model = SVC(C=0.9, kernel='linear')\n",
    "clf = model.fit(X_train_delete, y_train_delete)\n",
    "\n",
    "plt.scatter(X_train_delete[:, 0], X_train_delete[:, 1], c=y_train_delete, s=30, cmap=plt.cm.Paired)\n",
    "\n",
    "# plot the decision function\n",
    "ax = plt.gca()\n",
    "xlim = ax.get_xlim()\n",
    "ylim = ax.get_ylim()\n",
    "\n",
    "# create grid to evaluate model\n",
    "\n",
    "xx = np.linspace(xlim[0], xlim[1], 30)\n",
    "yy = np.linspace(ylim[0], ylim[1], 30)\n",
    "YY, XX = np.meshgrid(yy, xx)\n",
    "xy = np.vstack([XX.ravel(), YY.ravel()]).T\n",
    "Z = clf.decision_function(xy).reshape(XX.shape)\n",
    "\n",
    "# Imprimo línea de decisión y margen\n",
    "ax.contour(XX, YY, Z, colors='k', levels=[-1, 0, 1], alpha=0.5,linestyles=['--', '-', '--'])\n",
    "\n",
    "# Imprimo vectores de soporte\n",
    "ax.scatter(clf.support_vectors_[:, 0], clf.support_vectors_[:, 1], s=100, linewidth=0.5, facecolors='none', edgecolors='k')\n",
    "ax.set_title(\"C=0.9\" + \"  N° Vectores soportes=\"+str(np.sum(clf.n_support_)))\n",
    "plt.savefig(\"C=0.9 SVS\" + \"  N° Vectores soportes=\"+str(np.sum(clf.n_support_))+'_.png')\n",
    "plt.show()"
   ]
  },
  {
   "cell_type": "code",
   "execution_count": null,
   "metadata": {},
   "outputs": [],
   "source": [
    "# Hago una prediccón sobre el set de datos de test\n",
    "y_pred = clf.predict(X_test)\n",
    "print(confusion_matrix(y_test,y_pred))"
   ]
  },
  {
   "cell_type": "code",
   "execution_count": null,
   "metadata": {},
   "outputs": [],
   "source": [
    "# Calculo la recta de desición:\n",
    "\n",
    "w_scikit = clf.coef_[0]\n",
    "a = -w_scikit[0] / w_scikit[1]\n",
    "yy = a * xx - clf.intercept_[0] / w_scikit[1]\n",
    "m_scikit =-w_scikit[0] / w_scikit[1]\n",
    "b_scikit =-clf.intercept_[0]/w_scikit[1]\n",
    "print (\"Recta de decisión utilizando scikit-learn: \", \"y= \"+ str(m_scikit)+\"x  \"+str(b_scikit))"
   ]
  },
  {
   "cell_type": "code",
   "execution_count": null,
   "metadata": {},
   "outputs": [],
   "source": [
    "X_train_delete = X_train\n",
    "y_train_delete = y_train"
   ]
  },
  {
   "cell_type": "code",
   "execution_count": null,
   "metadata": {},
   "outputs": [],
   "source": [
    "# Elimino observaciones que no son vectores de soportes:\n",
    "X_train_delete = np.delete(X_train,obj=\n",
    "     [  3,   6,   7,  20,  25,  71,  79,  80,  81,  82,  83,  84,\n",
    "         85, 111, 112, 113, 114, 115, 120, 121, 122, 123, 124, 125, 207,\n",
    "        208, 209, 210, 211, 213, 214, 215], axis=0)\n",
    "y_train_delete = np.delete(y_train,obj=\n",
    "       [  3,   6,   7,  20,  25,  71,  79,  80,  81,  82,  83,  84,\n",
    "         85, 111, 112, 113, 114, 115, 120, 121, 122, 123, 124, 125, 207,\n",
    "        208, 209, 210, 211, 213, 214, 215], axis=0)"
   ]
  },
  {
   "cell_type": "code",
   "execution_count": null,
   "metadata": {},
   "outputs": [],
   "source": [
    "#Implementación con sklern utilizando el nuevo set de datos:\n",
    "from sklearn.svm import SVC\n",
    "model = SVC(C=0.5, kernel='linear')\n",
    "clf = model.fit(X_train_delete, y_train_delete)\n",
    "\n",
    "plt.scatter(X_train_delete[:, 0], X_train_delete[:, 1], c=y_train_delete, s=30, cmap=plt.cm.Paired)\n",
    "\n",
    "# plot the decision function\n",
    "ax = plt.gca()\n",
    "xlim = ax.get_xlim()\n",
    "ylim = ax.get_ylim()\n",
    "\n",
    "# create grid to evaluate model\n",
    "\n",
    "xx = np.linspace(xlim[0], xlim[1], 30)\n",
    "yy = np.linspace(ylim[0], ylim[1], 30)\n",
    "YY, XX = np.meshgrid(yy, xx)\n",
    "xy = np.vstack([XX.ravel(), YY.ravel()]).T\n",
    "Z = clf.decision_function(xy).reshape(XX.shape)\n",
    "\n",
    "# Imprimo línea de decisión y margen\n",
    "ax.contour(XX, YY, Z, colors='k', levels=[-1, 0, 1], alpha=0.5,linestyles=['--', '-', '--'])\n",
    "\n",
    "# Imprimo vectores de soporte\n",
    "ax.scatter(clf.support_vectors_[:, 0], clf.support_vectors_[:, 1], s=100, linewidth=0.5, facecolors='none', edgecolors='k')\n",
    "ax.set_title(\"C=0.9 \"  + \"  N° Vectores soportes=\"+str(np.sum(clf.n_support_)))\n",
    "plt.savefig(\"C=0.9 CVS\" + \"  N° Vectores soportes=\"+str(np.sum(clf.n_support_))+'_.png')\n",
    "plt.show()"
   ]
  },
  {
   "cell_type": "code",
   "execution_count": null,
   "metadata": {},
   "outputs": [],
   "source": [
    "# Hago una prediccón sobre el set de datos de test\n",
    "\n",
    "y_pred = clf.predict(X_test)\n",
    "print(confusion_matrix(y_test,y_pred))"
   ]
  },
  {
   "cell_type": "code",
   "execution_count": null,
   "metadata": {},
   "outputs": [],
   "source": [
    "# Calculo la recta de desición:\n",
    "\n",
    "w_scikit = clf.coef_[0]\n",
    "a = -w_scikit[0] / w_scikit[1]\n",
    "yy = a * xx - clf.intercept_[0] / w_scikit[1]\n",
    "m_scikit =-w_scikit[0] / w_scikit[1]\n",
    "b_scikit =-clf.intercept_[0]/w_scikit[1]\n",
    "print (\"Recta de decisión utilizando scikit-learn: \", \"y= \"+ str(m_scikit)+\"x + \"+str(b_scikit))"
   ]
  }
 ],
 "metadata": {
  "kernelspec": {
   "display_name": "Python 3",
   "language": "python",
   "name": "python3"
  },
  "language_info": {
   "codemirror_mode": {
    "name": "ipython",
    "version": 3
   },
   "file_extension": ".py",
   "mimetype": "text/x-python",
   "name": "python",
   "nbconvert_exporter": "python",
   "pygments_lexer": "ipython3",
   "version": "3.8.3"
  }
 },
 "nbformat": 4,
 "nbformat_minor": 4
}
